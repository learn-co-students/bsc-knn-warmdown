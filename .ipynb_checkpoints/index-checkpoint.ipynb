{
 "cells": [
  {
   "cell_type": "markdown",
   "metadata": {
    "index": 0
   },
   "source": [
    "# KNN - Practice Notebook"
   ]
  },
  {
   "cell_type": "code",
   "execution_count": null,
   "metadata": {
    "index": 1
   },
   "outputs": [],
   "source": [
    "# Run this cell unchanged\n",
    "import pandas as pd\n",
    "import numpy as np\n",
    "import matplotlib.pyplot as plt"
   ]
  },
  {
   "cell_type": "markdown",
   "metadata": {
    "index": 3
   },
   "source": [
    "Below we import the titanic dataset. To view the documentation for this dataset, please see [this kaggle competition.](https://www.kaggle.com/c/titanic/data)"
   ]
  },
  {
   "cell_type": "code",
   "execution_count": null,
   "metadata": {
    "index": 4
   },
   "outputs": [],
   "source": [
    "# Run this cell unchanged\n",
    "raw = pd.read_csv('data/titanic.csv')"
   ]
  },
  {
   "cell_type": "markdown",
   "metadata": {
    "index": 6
   },
   "source": [
    "Next we drop features that are not useful for a predictive model. "
   ]
  },
  {
   "cell_type": "code",
   "execution_count": null,
   "metadata": {
    "index": 7
   },
   "outputs": [],
   "source": [
    "drop = ['Name','PassengerId', 'Ticket', 'Cabin']\n",
    "\n",
    "data = raw.drop(drop, axis=1)\n",
    "data = data.dropna()"
   ]
  },
  {
   "cell_type": "markdown",
   "metadata": {
    "index": 9
   },
   "source": [
    "The target of this dataset is `Survived` which indicates whether or not a passenger survived the sinking of the titanic. \n",
    "\n",
    "In the cell below, we seperate the target from the predictors. "
   ]
  },
  {
   "cell_type": "code",
   "execution_count": null,
   "metadata": {
    "index": 10
   },
   "outputs": [],
   "source": [
    "X = data.drop('Survived', axis = 1)\n",
    "y = data.Survived"
   ]
  },
  {
   "cell_type": "markdown",
   "metadata": {
    "index": 12
   },
   "source": [
    "## 1. Create a train test split\n",
    "\n",
    "In the cell below, create a train test split for our dataset using `2021` as the random_state"
   ]
  },
  {
   "cell_type": "code",
   "execution_count": null,
   "metadata": {
    "index": 13
   },
   "outputs": [],
   "source": [
    "# Import train_test_split\n",
    "# YOUR CODE HERE\n",
    "\n",
    "# Create a train test split\n",
    "# YOUR CODE HERE"
   ]
  },
  {
   "cell_type": "markdown",
   "metadata": {
    "index": 15
   },
   "source": [
    "The goal of this notebook is to focus on KNN so will will take care of the preprocessing for the categorical columns.\n",
    "\n",
    "In the cell below, we one hot encode the categorical columns of our dataset."
   ]
  },
  {
   "cell_type": "code",
   "execution_count": null,
   "metadata": {
    "index": 16
   },
   "outputs": [],
   "source": [
    "# Run this cell unchanged\n",
    "# ================== One Hot Encoding Functions ===========================\n",
    "\n",
    "def ohe_transform(encoder, data):\n",
    "    # Transform categorical data\n",
    "    encoded = encoder.transform(data)\n",
    "    # Collect encoded feature_names\n",
    "    encoded_features = encoder.get_feature_names()\n",
    "    # Create a vectorized function for replacing string values\n",
    "    replace = lambda string, original, new: string.replace(original, new)\n",
    "    replace = np.vectorize(replace)\n",
    "    # Loop over the original column names\n",
    "    for idx in range(len(data.columns)):\n",
    "        # Create original string value to be replaced\n",
    "        original = f'x{idx}'\n",
    "        # Isolate column name\n",
    "        new = train_cat.columns[idx]\n",
    "        # Replace string values\n",
    "        encoded_features = replace(encoded_features, original, new)\n",
    "    \n",
    "    encoded = pd.DataFrame(encoded, \n",
    "                           columns=encoded_features)\n",
    "    \n",
    "    return encoded\n",
    "\n",
    "def concat_encoded(model_data, model_target, encoded_data):\n",
    "    # Create copies of modeling data\n",
    "    data = model_data.copy()\n",
    "    target = model_target.copy()\n",
    "    # Reset the index for all datasets\n",
    "    data = data.reset_index(drop=True)\n",
    "    target = target.reset_index(drop=True)\n",
    "    encoded_data = encoded_data.reset_index(drop=True)\n",
    "    # Concatenate the encoded data to the modeling data\n",
    "    concat = pd.concat([data, encoded_data], axis = 1)\n",
    "    \n",
    "    return concat, target\n",
    "\n",
    "# ================== One Hot Encoder Preprocessing ===========================\n",
    "\n",
    "from sklearn.preprocessing import OneHotEncoder\n",
    "\n",
    "# Initialize encoder\n",
    "encoder = OneHotEncoder(sparse = False)\n",
    "# Isolate categorical features\n",
    "train_cat = X_train.select_dtypes('object')\n",
    "test_cat = X_test.select_dtypes('object')\n",
    "# Fit encoder\n",
    "encoder.fit(train_cat)\n",
    "\n",
    "# Encode categorical features\n",
    "train_encoded = ohe_transform(encoder, train_cat)\n",
    "test_encoded = ohe_transform(encoder, test_cat)\n",
    "\n",
    "# Drop categorical features from modeling data\n",
    "X_train_no_categoricals = X_train.drop(train_cat.columns, axis = 1)\n",
    "X_test_no_catigoricals = X_test.drop(test_cat.columns, axis = 1)\n",
    "\n",
    "# Add encoded features to modeling data\n",
    "X_train, y_train = concat_encoded(X_train_no_categoricals,\n",
    "                                 y_train, train_encoded)\n",
    "X_test, y_test = concat_encoded(X_test_no_catigoricals,\n",
    "                                 y_test, test_encoded)"
   ]
  },
  {
   "cell_type": "markdown",
   "metadata": {
    "index": 18
   },
   "source": [
    "**Great.** Let's take a look at our training data. "
   ]
  },
  {
   "cell_type": "code",
   "execution_count": null,
   "metadata": {
    "index": 19
   },
   "outputs": [],
   "source": [
    "# Run this cell unchanged\n",
    "X_train.head(3)"
   ]
  },
  {
   "cell_type": "markdown",
   "metadata": {
    "index": 21
   },
   "source": [
    "## 2. Create a KNN model\n",
    "\n",
    "In the cell below:\n",
    "* Initalize a KNN model with the default settings.\n",
    "* Fit the KNN model to the training data."
   ]
  },
  {
   "cell_type": "code",
   "execution_count": null,
   "metadata": {
    "index": 22
   },
   "outputs": [],
   "source": [
    "# Import the KNN classifier model from sklearn\n",
    "# YOUR CODE HERE\n",
    "\n",
    "# Initialize the model with default settings\n",
    "# YOUR CODE HERE\n",
    "\n",
    "# Fit the model to the training data\n",
    "# YOUR CODE HERE"
   ]
  },
  {
   "cell_type": "markdown",
   "metadata": {
    "index": 24
   },
   "source": [
    "## 3. Generate training and validation scores\n",
    "\n",
    "Let's evaluate our model using `f1`. \n",
    "\n",
    "In the cell below,\n",
    "* Import the necessary tools for calculating the f1 score\n",
    "* Import `cross_val_score` from sklearn's `model_selection` module\n",
    "* Calculate the f1 score for the training data\n",
    "    * Store this metric in the variable `train_score`\n",
    "* Calculate the *mean* validation f1 score by passing the training data into `cross_val_score`\n",
    "    * Store this metric in the variable `val_score`."
   ]
  },
  {
   "cell_type": "code",
   "execution_count": null,
   "metadata": {
    "index": 25
   },
   "outputs": [],
   "source": [
    "# Import the necessary tools for calculating the f1 score\n",
    "# YOUR CODE HERE\n",
    "\n",
    "# Import cross_val_score from sklearn's model_selection module\n",
    "# YOUR CODE HERE\n",
    "\n",
    "\n",
    "# Calculate the f1 score for the training data\n",
    "# YOUR CODE HERE\n",
    "\n",
    "# Calculate the mean validation f1 score \n",
    "# by passing the training data into cross_val_score\n",
    "# YOUR CODE HERE\n",
    "\n",
    "\n",
    "print('Train:', train_score)\n",
    "print('Test:', val_score)"
   ]
  },
  {
   "cell_type": "markdown",
   "metadata": {
    "index": 27
   },
   "source": [
    "## 4. Multiple Choice"
   ]
  },
  {
   "cell_type": "code",
   "execution_count": null,
   "metadata": {
    "index": 28
   },
   "outputs": [],
   "source": [
    "# Run this cell unchanged\n",
    "from src.questions import *\n",
    "question_4.display()"
   ]
  },
  {
   "cell_type": "markdown",
   "metadata": {
    "index": 29
   },
   "source": [
    "## 5. Find the best `k`."
   ]
  },
  {
   "cell_type": "markdown",
   "metadata": {
    "index": 30
   },
   "source": [
    "A preliminary interpretation of the above metrics is that the model may be overfit to the training data. Let's see what happens to the training and validation scores as we changed the number of neighbors used to generate a prediction. "
   ]
  },
  {
   "cell_type": "code",
   "execution_count": null,
   "metadata": {
    "index": 31
   },
   "outputs": [],
   "source": [
    "# Create a list of integers from 1-150\n",
    "ks = np.arange(1, 151)\n",
    "\n",
    "# Create an empty list for train scores\n",
    "train_scores = []\n",
    "# Create an empty list for validation scores\n",
    "val_scores = []\n",
    "# Loop over the different options for k\n",
    "for k in ks:\n",
    "    # Initialize a knn model with a specific k\n",
    "    # YOUR CODE HERE\n",
    "    # Fit the model to the training data\n",
    "    # YOUR CODE HERE\n",
    "    # Calculate the f1 score for the training data\n",
    "    # YOUR CODE HERE\n",
    "    # Calculate the f1 score for the validation data\n",
    "    # YOUR CODE HERE\n",
    "    # Append the train score to the train scores list\n",
    "    # YOUR CODE HERE\n",
    "    # Append the validation score to the validation scores list\n",
    "    # YOUR CODE HERE"
   ]
  },
  {
   "cell_type": "markdown",
   "metadata": {
    "index": 33
   },
   "source": [
    "Now let's plot the training and testing scores!"
   ]
  },
  {
   "cell_type": "code",
   "execution_count": null,
   "metadata": {
    "index": 34
   },
   "outputs": [],
   "source": [
    "# Run this cell unchanged\n",
    "fig, ax = plt.subplots(figsize=(15,6))\n",
    "ax.plot(ks, train_scores, label='Train', lw=3)\n",
    "ax.plot(ks, val_scores, label='Test', lw=3)\n",
    "best_k = sorted(list(zip(val_scores, ks)), reverse=True)[1][1]\n",
    "ax.vlines(best_k, 0.4, 1, color='black', lw=2, label='Best K')\n",
    "ax.set_xlabel('K', fontsize=15)\n",
    "ax.set_ylabel('F1-Score', fontsize=15)\n",
    "ax.legend(fontsize=15)\n",
    "ax.grid();"
   ]
  },
  {
   "cell_type": "markdown",
   "metadata": {
    "index": 35
   },
   "source": [
    "## 6. Multiple Choice"
   ]
  },
  {
   "cell_type": "code",
   "execution_count": null,
   "metadata": {
    "index": 36
   },
   "outputs": [],
   "source": [
    "# Run this cell unchanged\n",
    "question_6.display()"
   ]
  },
  {
   "cell_type": "markdown",
   "metadata": {
    "index": 37
   },
   "source": [
    "## 7. Text answer"
   ]
  },
  {
   "cell_type": "code",
   "execution_count": null,
   "metadata": {
    "index": 38
   },
   "outputs": [],
   "source": [
    "# Run this cell unchanged\n",
    "question_7.display()"
   ]
  },
  {
   "cell_type": "markdown",
   "metadata": {
    "index": 39
   },
   "source": [
    "### A Quick fun aside about KNN\n",
    "\n",
    "KNN is most frequently used as a machine learning prediction tool, but at its core, it is simply an algorithm for finding similarity. \n",
    "\n",
    "Because of that, KNN has a remarkable amount of interesting applications. \n",
    "\n",
    "Below, let's look at a simple one:\n",
    "> Using KNN to improve a visualization. \n",
    "\n",
    "In the cell below, we import a dataset containing the population for every illinois municipality from 2010-2018."
   ]
  },
  {
   "cell_type": "code",
   "execution_count": null,
   "metadata": {
    "index": 40
   },
   "outputs": [],
   "source": [
    "# Run this cell unchanged\n",
    "df = pd.read_csv('data/illinois-populations.csv')\\\n",
    ".set_index('city')\n",
    "df.head()"
   ]
  },
  {
   "cell_type": "markdown",
   "metadata": {
    "index": 42
   },
   "source": [
    "We could plot the population for every municipality if wanted to, but the magnitude of populations are quite extremely different, so the visualization becomes very **un**informative. "
   ]
  },
  {
   "cell_type": "code",
   "execution_count": null,
   "metadata": {
    "index": 43
   },
   "outputs": [],
   "source": [
    "# Run this cell unchanged\n",
    "df.T.plot(figsize=(15,6), legend=False);"
   ]
  },
  {
   "cell_type": "markdown",
   "metadata": {
    "index": 45
   },
   "source": [
    "Instead, we can use `NearestNeighbors` to find the the 5 municipalities that are *most similar* to a given municipality, and only plot the populations for those 6 communities (The community we have selected + the five most similar)."
   ]
  },
  {
   "cell_type": "code",
   "execution_count": null,
   "metadata": {
    "index": 46
   },
   "outputs": [],
   "source": [
    "# Run this cell unchanged\n",
    "# Import NearestNeighbors\n",
    "from sklearn.neighbors import NearestNeighbors\n",
    "# Initialize\n",
    "neighbors = NearestNeighbors()\n",
    "# Fit to the entire dataset\n",
    "neighbors.fit(df)\n",
    "# Use .kneighbors to return\n",
    "# The 6 most similar observations for\n",
    "# each data point\n",
    "distance, indices = neighbors.kneighbors(df, 6)"
   ]
  },
  {
   "cell_type": "markdown",
   "metadata": {
    "index": 48
   },
   "source": [
    "Now, using the indices generated above, we can plot the population data for any selected town, and show the five communities whose populations from 2010-2018 are most similar."
   ]
  },
  {
   "cell_type": "code",
   "execution_count": null,
   "metadata": {
    "index": 49
   },
   "outputs": [],
   "source": [
    "# Run this cell unchanged\n",
    "from src.plotter import PlotPopulation\n",
    "city_plotter = PlotPopulation(df, indices)\n",
    "city_plotter.display()"
   ]
  }
 ],
 "metadata": {
  "kernelspec": {
   "display_name": "Python 3",
   "language": "python",
   "name": "python3"
  },
  "language_info": {
   "codemirror_mode": {
    "name": "ipython",
    "version": 3
   },
   "file_extension": ".py",
   "mimetype": "text/x-python",
   "name": "python",
   "nbconvert_exporter": "python",
   "pygments_lexer": "ipython3",
   "version": "3.7.4"
  }
 },
 "nbformat": 4,
 "nbformat_minor": 4
}
