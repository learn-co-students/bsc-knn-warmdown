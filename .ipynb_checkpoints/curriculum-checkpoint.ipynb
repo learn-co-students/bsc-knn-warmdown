{
 "cells": [
  {
   "cell_type": "markdown",
   "metadata": {
    "index": 0
   },
   "source": [
    "# KNN - Practice Notebook"
   ]
  },
  {
   "cell_type": "code",
   "execution_count": 92,
   "metadata": {
    "index": 1
   },
   "outputs": [],
   "source": [
    "# Run this cell unchanged\n",
    "import pandas as pd\n",
    "import numpy as np\n",
    "import matplotlib.pyplot as plt"
   ]
  },
  {
   "cell_type": "code",
   "execution_count": null,
   "metadata": {
    "index": 2
   },
   "outputs": [],
   "source": [
    "#==SOLUTION== \n",
    "import pandas as pd\n",
    "import numpy as np\n",
    "import matplotlib.pyplot as plt"
   ]
  },
  {
   "cell_type": "markdown",
   "metadata": {
    "index": 3
   },
   "source": [
    "Below we import the titanic dataset. To view the documentation for this dataset, please see [this kaggle competition.](https://www.kaggle.com/c/titanic/data)"
   ]
  },
  {
   "cell_type": "code",
   "execution_count": 91,
   "metadata": {
    "index": 4
   },
   "outputs": [],
   "source": [
    "# Run this cell unchanged\n",
    "raw = pd.read_csv('data/titanic.csv')"
   ]
  },
  {
   "cell_type": "code",
   "execution_count": null,
   "metadata": {
    "index": 5
   },
   "outputs": [],
   "source": [
    "#==SOLUTION== \n",
    "raw = pd.read_csv('data/titanic.csv')"
   ]
  },
  {
   "cell_type": "markdown",
   "metadata": {
    "index": 6
   },
   "source": [
    "Next we drop features that are not useful for a predictive model. "
   ]
  },
  {
   "cell_type": "code",
   "execution_count": 83,
   "metadata": {
    "index": 7
   },
   "outputs": [],
   "source": [
    "drop = ['Name','PassengerId', 'Ticket', 'Cabin']\n",
    "\n",
    "data = raw.drop(drop, axis=1)\n",
    "data = data.dropna()"
   ]
  },
  {
   "cell_type": "code",
   "execution_count": null,
   "metadata": {
    "index": 8
   },
   "outputs": [],
   "source": [
    "#==SOLUTION== \n",
    "drop = ['Name','PassengerId', 'Ticket', 'Cabin']\n",
    "\n",
    "data = raw.drop(drop, axis=1)\n",
    "data = data.dropna()"
   ]
  },
  {
   "cell_type": "markdown",
   "metadata": {
    "index": 9
   },
   "source": [
    "The target of this dataset is `Survived` which indicates whether or not a passenger survived the sinking of the titanic. \n",
    "\n",
    "In the cell below, we seperate the target from the predictors. "
   ]
  },
  {
   "cell_type": "code",
   "execution_count": 84,
   "metadata": {
    "index": 10
   },
   "outputs": [],
   "source": [
    "X = data.drop('Survived', axis = 1)\n",
    "y = data.Survived"
   ]
  },
  {
   "cell_type": "code",
   "execution_count": null,
   "metadata": {
    "index": 11
   },
   "outputs": [],
   "source": [
    "#==SOLUTION== \n",
    "X = data.drop('Survived', axis = 1)\n",
    "y = data.Survived"
   ]
  },
  {
   "cell_type": "markdown",
   "metadata": {
    "index": 12
   },
   "source": [
    "## 1. Create a train test split\n",
    "\n",
    "In the cell below, create a train test split for our dataset using `2021` as the random_state"
   ]
  },
  {
   "cell_type": "code",
   "execution_count": null,
   "metadata": {
    "index": 13
   },
   "outputs": [],
   "source": [
    "# Import train_test_split\n",
    "# YOUR CODE HERE\n",
    "\n",
    "# Create a train test split\n",
    "# YOUR CODE HERE"
   ]
  },
  {
   "cell_type": "code",
   "execution_count": 85,
   "metadata": {
    "index": 14
   },
   "outputs": [],
   "source": [
    "#==SOLUTION== \n",
    "# Import train_test_split\n",
    "from sklearn.model_selection import train_test_split\n",
    "\n",
    "# Create a train test split\n",
    "X_train, X_test, y_train, y_test = train_test_split(X, y, random_state=2021)"
   ]
  },
  {
   "cell_type": "markdown",
   "metadata": {
    "index": 15
   },
   "source": [
    "The goal of this notebook is to focus on KNN so will will take care of the preprocessing for the categorical columns.\n",
    "\n",
    "In the cell below, we one hot encode the categorical columns of our dataset."
   ]
  },
  {
   "cell_type": "code",
   "execution_count": 86,
   "metadata": {
    "index": 16
   },
   "outputs": [],
   "source": [
    "# Run this cell unchanged\n",
    "# ================== One Hot Encoding Functions ===========================\n",
    "\n",
    "def ohe_transform(encoder, data):\n",
    "    # Transform categorical data\n",
    "    encoded = encoder.transform(data)\n",
    "    # Collect encoded feature_names\n",
    "    encoded_features = encoder.get_feature_names()\n",
    "    # Create a vectorized function for replacing string values\n",
    "    replace = lambda string, original, new: string.replace(original, new)\n",
    "    replace = np.vectorize(replace)\n",
    "    # Loop over the original column names\n",
    "    for idx in range(len(data.columns)):\n",
    "        # Create original string value to be replaced\n",
    "        original = f'x{idx}'\n",
    "        # Isolate column name\n",
    "        new = train_cat.columns[idx]\n",
    "        # Replace string values\n",
    "        encoded_features = replace(encoded_features, original, new)\n",
    "    \n",
    "    encoded = pd.DataFrame(encoded, \n",
    "                           columns=encoded_features)\n",
    "    \n",
    "    return encoded\n",
    "\n",
    "def concat_encoded(model_data, model_target, encoded_data):\n",
    "    # Create copies of modeling data\n",
    "    data = model_data.copy()\n",
    "    target = model_target.copy()\n",
    "    # Reset the index for all datasets\n",
    "    data = data.reset_index(drop=True)\n",
    "    target = target.reset_index(drop=True)\n",
    "    encoded_data = encoded_data.reset_index(drop=True)\n",
    "    # Concatenate the encoded data to the modeling data\n",
    "    concat = pd.concat([data, encoded_data], axis = 1)\n",
    "    \n",
    "    return concat, target\n",
    "\n",
    "# ================== One Hot Encoder Preprocessing ===========================\n",
    "\n",
    "from sklearn.preprocessing import OneHotEncoder\n",
    "\n",
    "# Initialize encoder\n",
    "encoder = OneHotEncoder(sparse = False)\n",
    "# Isolate categorical features\n",
    "train_cat = X_train.select_dtypes('object')\n",
    "test_cat = X_test.select_dtypes('object')\n",
    "# Fit encoder\n",
    "encoder.fit(train_cat)\n",
    "\n",
    "# Encode categorical features\n",
    "train_encoded = ohe_transform(encoder, train_cat)\n",
    "test_encoded = ohe_transform(encoder, test_cat)\n",
    "\n",
    "# Drop categorical features from modeling data\n",
    "X_train_no_categoricals = X_train.drop(train_cat.columns, axis = 1)\n",
    "X_test_no_catigoricals = X_test.drop(test_cat.columns, axis = 1)\n",
    "\n",
    "# Add encoded features to modeling data\n",
    "X_train, y_train = concat_encoded(X_train_no_categoricals,\n",
    "                                 y_train, train_encoded)\n",
    "X_test, y_test = concat_encoded(X_test_no_catigoricals,\n",
    "                                 y_test, test_encoded)"
   ]
  },
  {
   "cell_type": "code",
   "execution_count": null,
   "metadata": {
    "index": 17
   },
   "outputs": [],
   "source": [
    "#==SOLUTION== \n",
    "# Run this cell unchanged\n",
    "# ================== One Hot Encoding Functions ===========================\n",
    "\n",
    "def ohe_transform(encoder, data):\n",
    "    # Transform categorical data\n",
    "    encoded = encoder.transform(data)\n",
    "    # Collect encoded feature_names\n",
    "    encoded_features = encoder.get_feature_names()\n",
    "    # Create a vectorized function for replacing string values\n",
    "    replace = lambda string, original, new: string.replace(original, new)\n",
    "    replace = np.vectorize(replace)\n",
    "    # Loop over the original column names\n",
    "    for idx in range(len(data.columns)):\n",
    "        # Create original string value to be replaced\n",
    "        original = f'x{idx}'\n",
    "        # Isolate column name\n",
    "        new = train_cat.columns[idx]\n",
    "        # Replace string values\n",
    "        encoded_features = replace(encoded_features, original, new)\n",
    "    \n",
    "    encoded = pd.DataFrame(encoded, \n",
    "                           columns=encoded_features)\n",
    "    \n",
    "    return encoded\n",
    "\n",
    "def concat_encoded(model_data, model_target, encoded_data):\n",
    "    # Create copies of modeling data\n",
    "    data = model_data.copy()\n",
    "    target = model_target.copy()\n",
    "    # Reset the index for all datasets\n",
    "    data = data.reset_index(drop=True)\n",
    "    target = target.reset_index(drop=True)\n",
    "    encoded_data = encoded_data.reset_index(drop=True)\n",
    "    # Concatenate the encoded data to the modeling data\n",
    "    concat = pd.concat([data, encoded_data], axis = 1)\n",
    "    \n",
    "    return concat, target\n",
    "\n",
    "# ================== One Hot Encoder Preprocessing ===========================\n",
    "\n",
    "from sklearn.preprocessing import OneHotEncoder\n",
    "\n",
    "# Initialize encoder\n",
    "encoder = OneHotEncoder(sparse = False)\n",
    "# Isolate categorical features\n",
    "train_cat = X_train.select_dtypes('object')\n",
    "test_cat = X_test.select_dtypes('object')\n",
    "# Fit encoder\n",
    "encoder.fit(train_cat)\n",
    "\n",
    "# Encode categorical features\n",
    "train_encoded = ohe_transform(encoder, train_cat)\n",
    "test_encoded = ohe_transform(encoder, test_cat)\n",
    "\n",
    "# Drop categorical features from modeling data\n",
    "X_train_no_categoricals = X_train.drop(train_cat.columns, axis = 1)\n",
    "X_test_no_catigoricals = X_test.drop(test_cat.columns, axis = 1)\n",
    "\n",
    "# Add encoded features to modeling data\n",
    "X_train, y_train = concat_encoded(X_train_no_categoricals,\n",
    "                                 y_train, train_encoded)\n",
    "X_test, y_test = concat_encoded(X_test_no_catigoricals,\n",
    "                                 y_test, test_encoded)"
   ]
  },
  {
   "cell_type": "markdown",
   "metadata": {
    "index": 18
   },
   "source": [
    "**Great.** Let's take a look at our training data. "
   ]
  },
  {
   "cell_type": "code",
   "execution_count": 106,
   "metadata": {
    "index": 19
   },
   "outputs": [
    {
     "data": {
      "text/html": [
       "<div>\n",
       "<style scoped>\n",
       "    .dataframe tbody tr th:only-of-type {\n",
       "        vertical-align: middle;\n",
       "    }\n",
       "\n",
       "    .dataframe tbody tr th {\n",
       "        vertical-align: top;\n",
       "    }\n",
       "\n",
       "    .dataframe thead th {\n",
       "        text-align: right;\n",
       "    }\n",
       "</style>\n",
       "<table border=\"1\" class=\"dataframe\">\n",
       "  <thead>\n",
       "    <tr style=\"text-align: right;\">\n",
       "      <th></th>\n",
       "      <th>Pclass</th>\n",
       "      <th>Age</th>\n",
       "      <th>SibSp</th>\n",
       "      <th>Parch</th>\n",
       "      <th>Fare</th>\n",
       "      <th>Sex_female</th>\n",
       "      <th>Sex_male</th>\n",
       "      <th>Embarked_C</th>\n",
       "      <th>Embarked_Q</th>\n",
       "      <th>Embarked_S</th>\n",
       "    </tr>\n",
       "  </thead>\n",
       "  <tbody>\n",
       "    <tr>\n",
       "      <th>0</th>\n",
       "      <td>3</td>\n",
       "      <td>5.0</td>\n",
       "      <td>4</td>\n",
       "      <td>2</td>\n",
       "      <td>31.3875</td>\n",
       "      <td>1.0</td>\n",
       "      <td>0.0</td>\n",
       "      <td>0.0</td>\n",
       "      <td>0.0</td>\n",
       "      <td>1.0</td>\n",
       "    </tr>\n",
       "    <tr>\n",
       "      <th>1</th>\n",
       "      <td>3</td>\n",
       "      <td>21.0</td>\n",
       "      <td>2</td>\n",
       "      <td>2</td>\n",
       "      <td>34.3750</td>\n",
       "      <td>1.0</td>\n",
       "      <td>0.0</td>\n",
       "      <td>0.0</td>\n",
       "      <td>0.0</td>\n",
       "      <td>1.0</td>\n",
       "    </tr>\n",
       "    <tr>\n",
       "      <th>2</th>\n",
       "      <td>3</td>\n",
       "      <td>30.5</td>\n",
       "      <td>0</td>\n",
       "      <td>0</td>\n",
       "      <td>8.0500</td>\n",
       "      <td>0.0</td>\n",
       "      <td>1.0</td>\n",
       "      <td>0.0</td>\n",
       "      <td>0.0</td>\n",
       "      <td>1.0</td>\n",
       "    </tr>\n",
       "  </tbody>\n",
       "</table>\n",
       "</div>"
      ],
      "text/plain": [
       "   Pclass   Age  SibSp  Parch     Fare  Sex_female  Sex_male  Embarked_C  \\\n",
       "0       3   5.0      4      2  31.3875         1.0       0.0         0.0   \n",
       "1       3  21.0      2      2  34.3750         1.0       0.0         0.0   \n",
       "2       3  30.5      0      0   8.0500         0.0       1.0         0.0   \n",
       "\n",
       "   Embarked_Q  Embarked_S  \n",
       "0         0.0         1.0  \n",
       "1         0.0         1.0  \n",
       "2         0.0         1.0  "
      ]
     },
     "execution_count": 106,
     "metadata": {},
     "output_type": "execute_result"
    }
   ],
   "source": [
    "# Run this cell unchanged\n",
    "X_train.head(3)"
   ]
  },
  {
   "cell_type": "code",
   "execution_count": null,
   "metadata": {
    "index": 20
   },
   "outputs": [],
   "source": [
    "#==SOLUTION== \n",
    "X_train.head(3)"
   ]
  },
  {
   "cell_type": "markdown",
   "metadata": {
    "index": 21
   },
   "source": [
    "## 2. Create a KNN model\n",
    "\n",
    "In the cell below:\n",
    "* Initalize a KNN model with the default settings.\n",
    "* Fit the KNN model to the training data."
   ]
  },
  {
   "cell_type": "code",
   "execution_count": 111,
   "metadata": {
    "index": 22
   },
   "outputs": [],
   "source": [
    "# Import the KNN classifier model from sklearn\n",
    "# YOUR CODE HERE\n",
    "\n",
    "# Initialize the model with default settings\n",
    "# YOUR CODE HERE\n",
    "\n",
    "# Fit the model to the training data\n",
    "# YOUR CODE HERE"
   ]
  },
  {
   "cell_type": "code",
   "execution_count": 88,
   "metadata": {
    "index": 23
   },
   "outputs": [
    {
     "data": {
      "text/plain": [
       "KNeighborsClassifier()"
      ]
     },
     "execution_count": 88,
     "metadata": {},
     "output_type": "execute_result"
    }
   ],
   "source": [
    "#==SOLUTION== \n",
    "# Import the KNN classifier model from sklearn\n",
    "from sklearn.neighbors import KNeighborsClassifier\n",
    "\n",
    "# Initialize the model with default settings\n",
    "model = KNeighborsClassifier()\n",
    "\n",
    "# Fit the model to the training data\n",
    "model.fit(X_train, y_train)"
   ]
  },
  {
   "cell_type": "markdown",
   "metadata": {
    "index": 24
   },
   "source": [
    "## 3. Generate training and validation scores\n",
    "\n",
    "Let's evaluate our model using `f1`. \n",
    "\n",
    "In the cell below,\n",
    "* Import the necessary tools for calculating the f1 score\n",
    "* Import `cross_val_score` from sklearn's `model_selection` module\n",
    "* Calculate the f1 score for the training data\n",
    "    * Store this metric in the variable `train_score`\n",
    "* Calculate the *mean* validation f1 score by passing the training data into `cross_val_score`\n",
    "    * Store this metric in the variable `val_score`."
   ]
  },
  {
   "cell_type": "code",
   "execution_count": null,
   "metadata": {
    "index": 25
   },
   "outputs": [],
   "source": [
    "# Import the necessary tools for calculating the f1 score\n",
    "# YOUR CODE HERE\n",
    "\n",
    "# Import cross_val_score from sklearn's model_selection module\n",
    "# YOUR CODE HERE\n",
    "\n",
    "\n",
    "# Calculate the f1 score for the training data\n",
    "# YOUR CODE HERE\n",
    "\n",
    "# Calculate the mean validation f1 score \n",
    "# by passing the training data into cross_val_score\n",
    "# YOUR CODE HERE\n",
    "\n",
    "\n",
    "print('Train:', train_score)\n",
    "print('Test:', val_score)"
   ]
  },
  {
   "cell_type": "code",
   "execution_count": 112,
   "metadata": {
    "index": 26
   },
   "outputs": [
    {
     "name": "stdout",
     "output_type": "stream",
     "text": [
      "Train: 0.690537084398977\n",
      "Test: 0.566627555800135\n"
     ]
    }
   ],
   "source": [
    "#==SOLUTION== \n",
    "# Import the necessary tools for calculating the f1 score\n",
    "from sklearn.metrics import f1_score, make_scorer\n",
    "\n",
    "# Import cross_val_score from sklearn's model_selection module\n",
    "from sklearn.model_selection import cross_val_score\n",
    "f1 = make_scorer(f1_score)\n",
    "\n",
    "# Calculate the f1 score for the training data\n",
    "train_score = f1(model, X_train, y_train)\n",
    "\n",
    "# Calculate the mean validation f1 score \n",
    "# by passing the training data into cross_val_score\n",
    "val_score = cross_val_score(model, X_train, y_train, scoring=f1).mean()\n",
    "\n",
    "\n",
    "print('Train:', train_score)\n",
    "print('Test:', val_score)"
   ]
  },
  {
   "cell_type": "markdown",
   "metadata": {
    "index": 27
   },
   "source": [
    "## 4. Multiple Choice"
   ]
  },
  {
   "cell_type": "code",
   "execution_count": 1,
   "metadata": {
    "index": 28
   },
   "outputs": [
    {
     "data": {
      "application/vnd.jupyter.widget-view+json": {
       "model_id": "d4f07e0d07664bd5b6c03043276c5a3f",
       "version_major": 2,
       "version_minor": 0
      },
      "text/plain": [
       "VBox(children=(Output(layout=Layout(bottom='5px', width='auto')), RadioButtons(layout=Layout(flex_flow='column…"
      ]
     },
     "metadata": {},
     "output_type": "display_data"
    }
   ],
   "source": [
    "# Run this cell unchanged\n",
    "from src.questions import *\n",
    "question_4.display()"
   ]
  },
  {
   "cell_type": "markdown",
   "metadata": {
    "index": 29
   },
   "source": [
    "## 5. Find the best `k`."
   ]
  },
  {
   "cell_type": "markdown",
   "metadata": {
    "index": 30
   },
   "source": [
    "A preliminary interpretation of the above metrics is that the model may be overfit to the training data. Let's see what happens to the training and validation scores as we changed the number of neighbors used to generate a prediction. "
   ]
  },
  {
   "cell_type": "code",
   "execution_count": null,
   "metadata": {
    "index": 31
   },
   "outputs": [],
   "source": [
    "# Create a list of integers from 1-150\n",
    "ks = np.arange(1, 151)\n",
    "\n",
    "# Create an empty list for train scores\n",
    "train_scores = []\n",
    "# Create an empty list for validation scores\n",
    "val_scores = []\n",
    "# Loop over the different options for k\n",
    "for k in ks:\n",
    "    # Initialize a knn model with a specific k\n",
    "    # YOUR CODE HERE\n",
    "    # Fit the model to the training data\n",
    "    # YOUR CODE HERE\n",
    "    # Calculate the f1 score for the training data\n",
    "    # YOUR CODE HERE\n",
    "    # Calculate the f1 score for the validation data\n",
    "    # YOUR CODE HERE\n",
    "    # Append the train score to the train scores list\n",
    "    # YOUR CODE HERE\n",
    "    # Append the validation score to the validation scores list\n",
    "    # YOUR CODE HERE"
   ]
  },
  {
   "cell_type": "code",
   "execution_count": 98,
   "metadata": {
    "index": 32
   },
   "outputs": [],
   "source": [
    "#==SOLUTION== \n",
    "# Create a list of integers from 1-150\n",
    "ks = np.arange(1, 151)\n",
    "\n",
    "# Create an empty list for train scores\n",
    "train_scores = []\n",
    "# Create an empty list for validation scores\n",
    "val_scores = []\n",
    "# Loop over the different options for k\n",
    "for k in ks:\n",
    "    # Initialize a knn model with a specific k\n",
    "    model_k = KNeighborsClassifier(n_neighbors=k)\n",
    "    # Fit the model to the training data\n",
    "    model_k.fit(X_train, y_train)\n",
    "    # Calculate the f1 score for the training data\n",
    "    train_score = f1(model_k, X_train, y_train)\n",
    "    # Calculate the f1 score for the validation data\n",
    "    val_score = cross_val_score(model_k, X_train, y_train, scoring=f1).mean()\n",
    "    # Append the train score to the train scores list\n",
    "    train_scores.append(train_score)\n",
    "    # Append the validation score to the validation scores list\n",
    "    val_scores.append(val_score)"
   ]
  },
  {
   "cell_type": "markdown",
   "metadata": {
    "index": 33
   },
   "source": [
    "Now let's plot the training and testing scores!"
   ]
  },
  {
   "cell_type": "code",
   "execution_count": 128,
   "metadata": {
    "index": 34
   },
   "outputs": [
    {
     "data": {
      "image/png": "[encoded data removed]",
      "text/plain": [
       "<Figure size 1080x432 with 1 Axes>"
      ]
     },
     "metadata": {
      "needs_background": "light"
     },
     "output_type": "display_data"
    }
   ],
   "source": [
    "# Run this cell unchanged\n",
    "fig, ax = plt.subplots(figsize=(15,6))\n",
    "ax.plot(ks, train_scores, label='Train', lw=3)\n",
    "ax.plot(ks, val_scores, label='Test', lw=3)\n",
    "best_k = sorted(list(zip(val_scores, ks)), reverse=True)[1][1]\n",
    "ax.vlines(best_k, 0.4, 1, color='black', lw=2, label='Best K')\n",
    "ax.set_xlabel('K', fontsize=15)\n",
    "ax.set_ylabel('F1-Score', fontsize=15)\n",
    "ax.legend(fontsize=15)\n",
    "ax.grid();"
   ]
  },
  {
   "cell_type": "markdown",
   "metadata": {
    "index": 35
   },
   "source": [
    "## 6. Multiple Choice"
   ]
  },
  {
   "cell_type": "code",
   "execution_count": 2,
   "metadata": {
    "index": 36
   },
   "outputs": [
    {
     "data": {
      "application/vnd.jupyter.widget-view+json": {
       "model_id": "1a63abcd49b34e0a97cddef73c998236",
       "version_major": 2,
       "version_minor": 0
      },
      "text/plain": [
       "VBox(children=(Output(layout=Layout(bottom='5px', width='auto'), outputs=({'output_type': 'display_data', 'dat…"
      ]
     },
     "metadata": {},
     "output_type": "display_data"
    }
   ],
   "source": [
    "# Run this cell unchanged\n",
    "question_6.display()"
   ]
  },
  {
   "cell_type": "markdown",
   "metadata": {
    "index": 37
   },
   "source": [
    "## 7. Text answer"
   ]
  },
  {
   "cell_type": "code",
   "execution_count": 3,
   "metadata": {
    "index": 38
   },
   "outputs": [
    {
     "data": {
      "application/vnd.jupyter.widget-view+json": {
       "model_id": "3cd8ddcb77144a90a6be457f93125ac9",
       "version_major": 2,
       "version_minor": 0
      },
      "text/plain": [
       "VBox(children=(Output(layout=Layout(bottom='5px', width='auto'), outputs=({'output_type': 'display_data', 'dat…"
      ]
     },
     "metadata": {},
     "output_type": "display_data"
    }
   ],
   "source": [
    "# Run this cell unchanged\n",
    "question_7.display()"
   ]
  },
  {
   "cell_type": "markdown",
   "metadata": {
    "index": 39
   },
   "source": [
    "### A Quick fun aside about KNN\n",
    "\n",
    "KNN is most frequently used as a machine learning prediction tool, but at its core, it is simply an algorithm for finding similarity. \n",
    "\n",
    "Because of that, KNN has a remarkable amount of interesting applications. \n",
    "\n",
    "Below, let's look at a simple one:\n",
    "> Using KNN to improve a visualization. \n",
    "\n",
    "In the cell below, we import a dataset containing the population for every illinois municipality from 2010-2018."
   ]
  },
  {
   "cell_type": "code",
   "execution_count": 2,
   "metadata": {
    "index": 40
   },
   "outputs": [],
   "source": [
    "# Run this cell unchanged\n",
    "df = pd.read_csv('data/illinois-populations.csv')\\\n",
    ".set_index('city')\n",
    "df.head()"
   ]
  },
  {
   "cell_type": "code",
   "execution_count": null,
   "metadata": {
    "index": 41
   },
   "outputs": [],
   "source": [
    "#==SOLUTION== \n",
    "df = pd.read_csv('data/illinois-populations.csv')\\\n",
    ".set_index('city')\n",
    "df.head()"
   ]
  },
  {
   "cell_type": "markdown",
   "metadata": {
    "index": 42
   },
   "source": [
    "We could plot the population for every municipality if wanted to, but the magnitude of populations are quite extremely different, so the visualization becomes very **un**informative. "
   ]
  },
  {
   "cell_type": "code",
   "execution_count": 131,
   "metadata": {
    "index": 43
   },
   "outputs": [
    {
     "data": {
      "image/png": "[encoded data removed]",
      "text/plain": [
       "<Figure size 1080x432 with 1 Axes>"
      ]
     },
     "metadata": {
      "needs_background": "light"
     },
     "output_type": "display_data"
    }
   ],
   "source": [
    "# Run this cell unchanged\n",
    "df.T.plot(figsize=(15,6), legend=False);"
   ]
  },
  {
   "cell_type": "code",
   "execution_count": null,
   "metadata": {
    "index": 44
   },
   "outputs": [],
   "source": [
    "#==SOLUTION== \n",
    "df.T.plot(figsize=(15,6), legend=False);"
   ]
  },
  {
   "cell_type": "markdown",
   "metadata": {
    "index": 45
   },
   "source": [
    "Instead, we can use `NearestNeighbors` to find the the 5 municipalities that are *most similar* to a given municipality, and only plot the populations for those 6 communities (The community we have selected + the five most similar)."
   ]
  },
  {
   "cell_type": "code",
   "execution_count": 5,
   "metadata": {
    "index": 46
   },
   "outputs": [],
   "source": [
    "# Run this cell unchanged\n",
    "# Import NearestNeighbors\n",
    "from sklearn.neighbors import NearestNeighbors\n",
    "# Initialize\n",
    "neighbors = NearestNeighbors()\n",
    "# Fit to the entire dataset\n",
    "neighbors.fit(df)\n",
    "# Use .kneighbors to return\n",
    "# The 6 most similar observations for\n",
    "# each data point\n",
    "distance, indices = neighbors.kneighbors(df, 6)"
   ]
  },
  {
   "cell_type": "code",
   "execution_count": null,
   "metadata": {
    "index": 47
   },
   "outputs": [],
   "source": [
    "#==SOLUTION== \n",
    "# Run this cell unchanged\n",
    "# Import NearestNeighbors\n",
    "from sklearn.neighbors import NearestNeighbors\n",
    "# Initialize\n",
    "neighbors = NearestNeighbors()\n",
    "# Fit to the entire dataset\n",
    "neighbors.fit(df)\n",
    "# Use .kneighbors to return\n",
    "# The 6 most similar observations for\n",
    "# each data point\n",
    "distance, indices = neighbors.kneighbors(df, 6)"
   ]
  },
  {
   "cell_type": "markdown",
   "metadata": {
    "index": 48
   },
   "source": [
    "Now, using the indices generated above, we can plot the population data for any selected town, and show the five communities whose populations from 2010-2018 are most similar."
   ]
  },
  {
   "cell_type": "code",
   "execution_count": 6,
   "metadata": {
    "index": 49
   },
   "outputs": [],
   "source": [
    "# Run this cell unchanged\n",
    "from src.plotter import PlotPopulation\n",
    "city_plotter = PlotPopulation(df, indices)\n",
    "city_plotter.display()"
   ]
  },
  {
   "cell_type": "code",
   "execution_count": null,
   "metadata": {
    "index": 50
   },
   "outputs": [],
   "source": [
    "#==SOLUTION== \n",
    "from src.plotter import PlotPopulation\n",
    "city_plotter = PlotPopulation(df, indices)\n",
    "city_plotter.display()"
   ]
  }
 ],
 "metadata": {
  "kernelspec": {
   "display_name": "Python 3",
   "language": "python",
   "name": "python3"
  },
  "language_info": {
   "codemirror_mode": {
    "name": "ipython",
    "version": 3
   },
   "file_extension": ".py",
   "mimetype": "text/x-python",
   "name": "python",
   "nbconvert_exporter": "python",
   "pygments_lexer": "ipython3",
   "version": "3.7.4"
  }
 },
 "nbformat": 4,
 "nbformat_minor": 4
}
